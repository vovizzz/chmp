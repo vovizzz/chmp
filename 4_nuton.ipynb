{
  "metadata": {
    "language_info": {
      "codemirror_mode": {
        "name": "python",
        "version": 3
      },
      "file_extension": ".py",
      "mimetype": "text/x-python",
      "name": "python",
      "nbconvert_exporter": "python",
      "pygments_lexer": "ipython3",
      "version": "3.8"
    },
    "kernelspec": {
      "name": "python",
      "display_name": "Python (Pyodide)",
      "language": "python"
    }
  },
  "nbformat_minor": 4,
  "nbformat": 4,
  "cells": [
    {
      "cell_type": "code",
      "source": "import numpy as np\nimport math\nfrom scipy.misc import derivative\ndef f(x):\n    return 4 * pow(x, 4) + 4 * pow(x, 3) - 6 * pow(x,2) - 9 * x - 1\na = 0\nb = 3\neps = 0.001 #точність\ndef nuton(a,b,eps):\n    df2 = derivative(f, b, n = 2) \n    if (f(b)*df2>0):\n        xi = b\n    else:\n        xi = a\n    df = derivative(f,xi, n= 1)\n    xi_1 = xi - f(xi)/df\n    while (abs(xi_1 - xi)>eps): #accuracy check\n        xi = xi_1\n        xi_1 = xi - f(xi)/df\n    return print ('Solving the equation by Newton*s method x = ', xi_1)\nnuton (a,b,eps)\n\n",
      "metadata": {
        "trusted": true
      },
      "execution_count": 33,
      "outputs": [
        {
          "name": "stdout",
          "text": "Solving the equation by Newton*s method x =  1.3882178760390242\n",
          "output_type": "stream"
        }
      ]
    }
  ]
}