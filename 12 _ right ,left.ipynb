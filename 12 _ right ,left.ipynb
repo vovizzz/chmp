{
  "metadata": {
    "language_info": {
      "codemirror_mode": {
        "name": "python",
        "version": 3
      },
      "file_extension": ".py",
      "mimetype": "text/x-python",
      "name": "python",
      "nbconvert_exporter": "python",
      "pygments_lexer": "ipython3",
      "version": "3.8"
    },
    "kernelspec": {
      "name": "python",
      "display_name": "Python (Pyodide)",
      "language": "python"
    }
  },
  "nbformat_minor": 4,
  "nbformat": 4,
  "cells": [
    {
      "cell_type": "code",
      "source": "from scipy import integrate \nimport math\neps = 0.001\na = 0.15\nb = 0.5\nn = 10\ndef f1(x): \n    return math.sqrt(2 * x + 1.6)\ndef left_rec(f1,a,b,n): \n    h=(b-a)/n \n    sum=0 \n    for i in range(0,n): \n        sum+=f1(a+i*h) \n    return sum*h \n\nv,err = integrate.quad(f1,a,b)\n#Перевірка\n#Перевірка точності за правилом Рунге:\nif abs(left_rec(f1,a,b,2*n) - left_rec(f1,a,b,n))/3. <=eps:\n    print(\"left rectangle:\",round (left_rec(f1,a,b,n), 5)) \ndef right_rec(f1,a,b,n): \n    h=(b-a)/n \n    sum=0 \n    for i in range(1,n+1): \n        sum+=f1(a+i*h) \n    return sum*h \nprint(\"right rectangle:\",round (right_rec(f1,a,b,n), 5)) \ndef aver_rec(f1,a,b,n): \n    h=0.035\n    sum=0 \n    for i in range(0,n): \n        sum+=f1(a+i*h) \n    return sum*h \nprint(\"average rectangle:\",round (aver_rec(f1,a,b,n), 5)) \nprint(\"Check for the rectangle method= \",round (v, 5))\n",
      "metadata": {
        "trusted": true
      },
      "execution_count": 12,
      "outputs": [
        {
          "name": "stdout",
          "text": "left rectangle: 0.52036\nright rectangle: 0.52855\naverage rectangle: 0.52036\nCheck for the rectangle method=  0.52447\n",
          "output_type": "stream"
        }
      ]
    },
    {
      "cell_type": "code",
      "source": "",
      "metadata": {},
      "execution_count": null,
      "outputs": []
    }
  ]
}