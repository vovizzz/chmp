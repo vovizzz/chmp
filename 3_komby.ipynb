{
  "metadata": {
    "language_info": {
      "codemirror_mode": {
        "name": "python",
        "version": 3
      },
      "file_extension": ".py",
      "mimetype": "text/x-python",
      "name": "python",
      "nbconvert_exporter": "python",
      "pygments_lexer": "ipython3",
      "version": "3.8"
    },
    "kernelspec": {
      "name": "python",
      "display_name": "Python (Pyodide)",
      "language": "python"
    }
  },
  "nbformat_minor": 4,
  "nbformat": 4,
  "cells": [
    {
      "cell_type": "code",
      "source": "import numpy as np \nimport math\nfrom scipy.misc import derivative \ndef f(x):\n    return 4 * pow(x, 4) + 4 * pow(x, 4) - 6 * pow(x,2) - 9 * x - 1\ndef komb(a,b,eps):\n    if (derivative(f, a, n = 1)*derivative(f, a, n = 2)>0):\n        a0 = a\n        b0 = b\n    else:\n        a0 = b\n        b0 = a\n    ai = a0\n    bi = b0\n    while abs(ai-bi)>eps:\n        ai_1 = ai -f(ai)*(bi - ai)/(f(bi) - f(ai))\n        bi_1 = bi - f(bi)/derivative(f,bi, n= 1)\n        ai = ai_1\n        bi = bi_1\n    x = (ai_1+bi_1)/2\n    return print('Solving the equation by the combined method x = ', x)\nkomb(2,0,0.001)",
      "metadata": {
        "trusted": true
      },
      "execution_count": 1,
      "outputs": [
        {
          "name": "stdout",
          "text": "Solving the equation by the combined method x =  -0.12045391749093785\n",
          "output_type": "stream"
        }
      ]
    },
    {
      "cell_type": "code",
      "source": "",
      "metadata": {},
      "execution_count": null,
      "outputs": []
    }
  ]
}