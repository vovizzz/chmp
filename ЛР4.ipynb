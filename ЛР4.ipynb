{
  "metadata": {
    "language_info": {
      "codemirror_mode": {
        "name": "python",
        "version": 3
      },
      "file_extension": ".py",
      "mimetype": "text/x-python",
      "name": "python",
      "nbconvert_exporter": "python",
      "pygments_lexer": "ipython3",
      "version": "3.8"
    },
    "kernelspec": {
      "name": "python",
      "display_name": "Python (Pyodide)",
      "language": "python"
    }
  },
  "nbformat_minor": 4,
  "nbformat": 4,
  "cells": [
    {
      "cell_type": "code",
      "source": "import numpy as np\na = np.array([[1, 2], [4, -1]]) #Задаємо матрицю 3*3\nb = np.array([[2, -3], [-4, 1]])\n\nprint(a-b)",
      "metadata": {
        "trusted": true
      },
      "execution_count": 48,
      "outputs": [
        {
          "name": "stdout",
          "text": "[[-1  5]\n [ 8 -2]]\n",
          "output_type": "stream"
        }
      ]
    },
    {
      "cell_type": "code",
      "source": "a = np.array([[-1, 2], [0, 1]])\nprint(pow(a,2))",
      "metadata": {
        "trusted": true
      },
      "execution_count": 49,
      "outputs": [
        {
          "name": "stdout",
          "text": "[[1 4]\n [0 1]]\n",
          "output_type": "stream"
        }
      ]
    },
    {
      "cell_type": "code",
      "source": "a = np.array([[3,5], [6, -1]])\nb = np.array([[2,1], [-3, 2]])\nprint(a*b)",
      "metadata": {
        "trusted": true
      },
      "execution_count": 50,
      "outputs": [
        {
          "name": "stdout",
          "text": "[[  6   5]\n [-18  -2]]\n",
          "output_type": "stream"
        }
      ]
    },
    {
      "cell_type": "code",
      "source": "a = np.array([[2,3,4], [1,0,6], [7,8,9]])\nprint(np.linalg.det(a))",
      "metadata": {
        "trusted": true
      },
      "execution_count": 51,
      "outputs": [
        {
          "name": "stdout",
          "text": "35.00000000000001\n",
          "output_type": "stream"
        }
      ]
    },
    {
      "cell_type": "code",
      "source": "a = np.array([[1,2,3,4], [-2,1,-4,3], [3,-4,-1,2], [4,3,-2,-1]])\nprint(np.linalg.det(a))",
      "metadata": {
        "trusted": true
      },
      "execution_count": 52,
      "outputs": [
        {
          "name": "stdout",
          "text": "900.0000000000009\n",
          "output_type": "stream"
        }
      ]
    },
    {
      "cell_type": "code",
      "source": "a = np.array([[1,2,-3], [0,1,2], [0,0,1]])\na_inv = np.linalg.inv(a)\nprint(a_inv)",
      "metadata": {
        "trusted": true
      },
      "execution_count": 53,
      "outputs": [
        {
          "name": "stdout",
          "text": "[[ 1. -2.  7.]\n [ 0.  1. -2.]\n [ 0.  0.  1.]]\n",
          "output_type": "stream"
        }
      ]
    },
    {
      "cell_type": "code",
      "source": "a = np.array([[1,2,3,4], [3,-1,2,5], [1,2,3,4], [1,3,4,5]])\nprint(np.linalg.matrix_rank(a))",
      "metadata": {
        "trusted": true
      },
      "execution_count": 54,
      "outputs": [
        {
          "name": "stdout",
          "text": "2\n",
          "output_type": "stream"
        }
      ]
    },
    {
      "cell_type": "code",
      "source": "a = np.matrix('2 -1 1; 3 4 -2; 1 -3 1')\nprint('A=',a)\nb = np.matrix('5; -3; 4')\nprint('B=',b)\n\ndef kramer (a, b):\n    a_det = np.linalg.det(a)\n    print('Детермінант матриці = ', a_det)\n#Зробити реревірку,що детермінант не дорівнює нулю\n    if (a_det != 0):\n        print ('Розв*язуємо систему')\n        \n        x_m = np.matrix(a)\n        x_m[:, 0] = b # 1 cт. замінюємо на  ст.b\n        print('x_m=', x_m)\n        y_m = np.matrix(a)\n        y_m[:, 1] = b # 2 cт. замінюємо на  ст.b\n        print('y_m=',y_m)\n\n        z_m = np.matrix(a)\n        z_m[:, 2] = b # 3 cт. замінюємо на  ст.b\n        print('z_m=',z_m)\n\n        x = np.linalg.det(x_m) / a_det\n        y = np.linalg.det(y_m) / a_det\n        z = np.linalg.det(z_m) / a_det\n        print('X = ', round(x,5))\n\n        print('Y=', round(y,5))\n\n        print('Z=', round(z,5))\n    else:\n        print('Розв*язків немає')\n        \nkramer(a,b)",
      "metadata": {
        "trusted": true
      },
      "execution_count": 55,
      "outputs": [
        {
          "name": "stdout",
          "text": "A= [[ 2 -1  1]\n [ 3  4 -2]\n [ 1 -3  1]]\nB= [[ 5]\n [-3]\n [ 4]]\nДетермінант матриці =  -11.999999999999995\nРозв*язуємо систему\nx_m= [[ 5 -1  1]\n [-3  4 -2]\n [ 4 -3  1]]\ny_m= [[ 2  5  1]\n [ 3 -3 -2]\n [ 1  4  1]]\nz_m= [[ 2 -1  5]\n [ 3  4 -3]\n [ 1 -3  4]]\nX =  1.0\nY= 0.0\nZ= 3.0\n",
          "output_type": "stream"
        }
      ]
    },
    {
      "cell_type": "code",
      "source": "",
      "metadata": {},
      "execution_count": null,
      "outputs": []
    }
  ]
}