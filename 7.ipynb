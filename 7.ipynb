{
  "metadata": {
    "language_info": {
      "codemirror_mode": {
        "name": "python",
        "version": 3
      },
      "file_extension": ".py",
      "mimetype": "text/x-python",
      "name": "python",
      "nbconvert_exporter": "python",
      "pygments_lexer": "ipython3",
      "version": "3.8"
    },
    "kernelspec": {
      "name": "python",
      "display_name": "Python (Pyodide)",
      "language": "python"
    }
  },
  "nbformat_minor": 4,
  "nbformat": 4,
  "cells": [
    {
      "cell_type": "code",
      "source": "import numpy as np\nimport math\n\nmas_x = [1.5,2.0,2.5,3.0,3.5,4.0]\nmas_y = [10.517, 10.193,9.807,9.387,8.977,8.637]\nh = mas_x[1] - mas_x[0]\nprint (h)\nmas_1 = []\nmas_2 = []\nmas_3 = []\nmas_4 = []\n\nfor i in range(len(mas_y)):\n    mas_1.append(mas_y[i] - mas_y[i-1])\nmas_1.pop(0)\nprint ('mas_1 = ', mas_1)\n\nfor j in range(len(mas_1)):\n    mas_2.append(mas_1[j] - mas_1[j-1])\nmas_2.pop(0)\nprint ('mas_2 = ', mas_2)\n\nfor k in range(len(mas_2)):\n    mas_3.append(mas_2[k] - mas_2[k-1])\nmas_3.pop(0)\nprint ('mas_3 = ', mas_3)\n\nfor l in range(len(mas_3)):\n    mas_4.append(mas_3[l] - mas_3[l-1])\nmas_4.pop(0)\nprint ('mas_4 = ', mas_4)\n\ny1 = 1 / h * (mas_1[1] - (mas_2[1] / 2) + (mas_3[1] / 3) - (mas_4[1]/4))\ny2 = 1 / (h**2) * (mas_2[1] - mas_3[1] + 11/12*mas_4[1])\n\nprint (\"first: \", y1)\n\n",
      "metadata": {
        "trusted": true
      },
      "execution_count": 35,
      "outputs": [
        {
          "name": "stdout",
          "text": "0.5\nmas_1 =  [-0.32399999999999984, -0.38599999999999923, -0.41999999999999993, -0.41000000000000014, -0.33999999999999986]\nmas_2 =  [-0.06199999999999939, -0.034000000000000696, 0.009999999999999787, 0.07000000000000028]\nmas_3 =  [0.027999999999998693, 0.04400000000000048, 0.0600000000000005]\nmas_4 =  [0.01600000000000179, 0.016000000000000014]\nfirst:  -0.7166666666666641\n",
          "output_type": "stream"
        }
      ]
    }
  ]
}