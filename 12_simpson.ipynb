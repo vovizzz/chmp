{
  "metadata": {
    "language_info": {
      "codemirror_mode": {
        "name": "python",
        "version": 3
      },
      "file_extension": ".py",
      "mimetype": "text/x-python",
      "name": "python",
      "nbconvert_exporter": "python",
      "pygments_lexer": "ipython3",
      "version": "3.8"
    },
    "kernelspec": {
      "name": "python",
      "display_name": "Python (Pyodide)",
      "language": "python"
    }
  },
  "nbformat_minor": 4,
  "nbformat": 4,
  "cells": [
    {
      "cell_type": "code",
      "source": "from scipy import integrate \nimport math\neps = 0.001\ndef f1(x): \n    return math.tan(pow(x,2)) / x + 1\n\ndef simpson(a,b,n): \n    h = (b - a) / n \n    integr = f1(a) + f1(b) \n    for i in range(1,n): \n        k = a + i*h \n        if i%2 == 0: \n            integr += 2 * f1(k) \n        else: \n            integr += 4 * f1(k) \n    integr *= h/3 \n    return integr \na = 0.15\nb = 0.63\nn = 8\nif abs(simpson(a,b,2*n) -simpson(a,b,n))/ 15. <= eps: \n   print(\"Simpsone method:\",round (simpson(a,b,n), 5)) \nv,err = integrate.quad(f1,a,b)#Перевірка \nprint(\"Check for the simpsone method= \",round(v, 5)) ",
      "metadata": {
        "trusted": true
      },
      "execution_count": 5,
      "outputs": [
        {
          "name": "stdout",
          "text": "Simpsone method: 0.67081\nCheck for the simpsone method=  0.67081\n",
          "output_type": "stream"
        }
      ]
    },
    {
      "cell_type": "code",
      "source": "",
      "metadata": {},
      "execution_count": null,
      "outputs": []
    }
  ]
}